{
 "cells": [
  {
   "cell_type": "markdown",
   "metadata": {},
   "source": [
    "# Data Preprocessing for Pointer Network\n",
    "In this notebook we are showing how we do data preprocessing in order to feed the CNN stories dataset to our pointer network."
   ]
  },
  {
   "cell_type": "code",
   "execution_count": 1,
   "metadata": {},
   "outputs": [],
   "source": [
    "import pandas as pd\n",
    "import numpy as np\n",
    "import json\n",
    "import glob\n"
   ]
  },
  {
   "cell_type": "code",
   "execution_count": 2,
   "metadata": {},
   "outputs": [],
   "source": [
    "def mmap(fn, elem):\n",
    "    return list(map(fn, elem))\n",
    "\n",
    "def getel(n, lst): \n",
    "    return mmap(lambda x: x[n], lst)"
   ]
  },
  {
   "cell_type": "markdown",
   "metadata": {},
   "source": [
    "## Dataset Cleaning\n",
    "The cleaning of the CNN dataset which we use is kindly taken from machinelearningmaster.com\n",
    "\n",
    "You can find the whole article here:\n",
    "https://machinelearningmastery.com/prepare-news-articles-text-summarization/?unapproved=487774&moderation-hash=c397686a5fc42785c709030b2bcf4ebc#comment-487774"
   ]
  },
  {
   "cell_type": "code",
   "execution_count": null,
   "metadata": {},
   "outputs": [],
   "source": [
    "from os import listdir\n",
    "import string\n",
    "\n",
    "# load doc into memory\n",
    "\n",
    "\n",
    "def load_doc(filename):\n",
    "    # open the file as read only\n",
    "    file = open(filename, encoding='utf-8')\n",
    "    # read all text\n",
    "    text = file.read()\n",
    "    # close the file\n",
    "    file.close()\n",
    "    return text\n",
    "\n",
    "# split a document into news story and highlights\n",
    "\n",
    "\n",
    "def split_story(doc):\n",
    "    # find first highlight\n",
    "    index = doc.find('@highlight')\n",
    "    # split into story and highlights\n",
    "    story, highlights = doc[:index], doc[index:].split('@highlight')\n",
    "    # strip extra white space around each highlight\n",
    "    highlights = [h.strip() for h in highlights if len(h) > 0]\n",
    "    return story, highlights\n",
    "\n",
    "# load all stories in a directory\n",
    "\n",
    "\n",
    "def load_stories(directory):\n",
    "    stories = list()\n",
    "    for name in listdir(directory):\n",
    "        filename = directory + '/' + name\n",
    "        # load document\n",
    "        doc = load_doc(filename)\n",
    "        # split into story and highlights\n",
    "        story, highlights = split_story(doc)\n",
    "        # store\n",
    "        stories.append({'story': story, 'highlights': highlights})\n",
    "    return stories\n",
    "\n",
    "# clean a list of lines\n",
    "\n",
    "\n",
    "def clean_lines(lines):\n",
    "    cleaned = list()\n",
    "    # prepare a translation table to remove punctuation\n",
    "    table = str.maketrans('', '', string.punctuation)\n",
    "    for line in lines:\n",
    "        # strip source cnn office if it exists\n",
    "        index = line.find('(CNN) -- ')\n",
    "        if index > -1:\n",
    "            line = line[index+len('(CNN)'):]\n",
    "        # tokenize on white space\n",
    "        line = line.split()\n",
    "        # convert to lower case\n",
    "        line = [word.lower() for word in line]\n",
    "        # remove punctuation from each token\n",
    "        line = [w.translate(table) for w in line]\n",
    "        # remove tokens with numbers in them\n",
    "        line = [word for word in line if word.isalpha()]\n",
    "        # store as string\n",
    "        cleaned.append(' '.join(line))\n",
    "    # remove empty strings\n",
    "    cleaned = [c for c in cleaned if len(c) > 0]\n",
    "    return cleaned\n",
    "\n",
    "\n",
    "# load stories\n",
    "directory = './cnn_dataset/cnn/stories/'\n",
    "stories = load_stories(directory)\n",
    "print('Loaded Stories %d' % len(stories))\n",
    "\n",
    "# clean stories\n",
    "for example in stories:\n",
    "    example['story'] = clean_lines(example['story'].split('\\n'))\n",
    "    example['highlights'] = clean_lines(example['highlights'])\n",
    "\n",
    "\n"
   ]
  },
  {
   "cell_type": "code",
   "execution_count": null,
   "metadata": {},
   "outputs": [],
   "source": [
    "stories[0]['highlights']"
   ]
  },
  {
   "cell_type": "code",
   "execution_count": 30,
   "metadata": {},
   "outputs": [],
   "source": [
    "# save to file\n",
    "from pickle import dump, load\n",
    "dump(stories, open('cnn_dataset.pkl', 'wb'))"
   ]
  },
  {
   "cell_type": "code",
   "execution_count": 79,
   "metadata": {
    "scrolled": false
   },
   "outputs": [
    {
     "name": "stdout",
     "output_type": "stream",
     "text": [
      "Loaded Stories 92579\n"
     ]
    }
   ],
   "source": [
    "# load from file\n",
    "from pickle import dump, load\n",
    "stories = load(open('cnn_dataset.pkl', 'rb'))\n",
    "print('Loaded Stories %d' % len(stories))"
   ]
  },
  {
   "cell_type": "markdown",
   "metadata": {},
   "source": [
    "## Data sampling\n",
    "After the dataset is cleaned and tokenized, we can select a sample of the dataset to work with and we can start doing our analysis of the dataset. Here we choose a 10% which account for 9258 examples"
   ]
  },
  {
   "cell_type": "markdown",
   "metadata": {},
   "source": [
    "After the dataset is cleaned and tokenized, we can select a sample of the dataset to work with and we can start doing our analysis of the dataset"
   ]
  },
  {
   "cell_type": "code",
   "execution_count": 80,
   "metadata": {},
   "outputs": [],
   "source": [
    "size = len(stories) // 10\n",
    "# Set Seed\n",
    "np.random.seed(seed=13367)\n",
    "stories = np.array(stories)\n",
    "indexes = np.random.choice(list(range(stories.shape[0])), size=size, replace=False)\n",
    "\n",
    "# Sample 10% of dataset\n",
    "random_sample = stories[indexes]"
   ]
  },
  {
   "cell_type": "code",
   "execution_count": 81,
   "metadata": {},
   "outputs": [],
   "source": [
    "size = len(stories) // 10\n",
    "# Set Seed\n",
    "np.random.seed(seed=13367)\n",
    "stories = np.array(stories)\n",
    "indexes = np.random.choice(list(range(92579)), size=size, replace=False)\n",
    "\n",
    "# Sample 10% of dataset\n",
    "random_sample = stories[indexes]"
   ]
  },
  {
   "cell_type": "markdown",
   "metadata": {},
   "source": [
    "We also select the first 10 sentences in order to reduce the training size for saving computational times. This is important because there may be outliers in terms of sentence length that will increase the size of the training set because of the padding inserted in the other sentences. "
   ]
  },
  {
   "cell_type": "code",
   "execution_count": 82,
   "metadata": {},
   "outputs": [],
   "source": [
    "def get_first_n_sentence(data, n):\n",
    "    tmp = data.tolist()\n",
    "    X = [\". \".join(obj['story'][:n]) for obj in tmp]\n",
    "    y = [\". \".join(obj['highlights']) for obj in tmp]\n",
    "    return X, y"
   ]
  },
  {
   "cell_type": "code",
   "execution_count": 83,
   "metadata": {},
   "outputs": [],
   "source": [
    "X, y = get_first_n_sentence(random_sample, 10)"
   ]
  },
  {
   "cell_type": "markdown",
   "metadata": {},
   "source": [
    "We now print respectively the max sentence length and the mean length, in order to see how much more we can save in memory. It seems that the max length here is 1k of words against the 301 of the mean. So we still have outliers to remove from this dataset"
   ]
  },
  {
   "cell_type": "code",
   "execution_count": 84,
   "metadata": {},
   "outputs": [
    {
     "name": "stdout",
     "output_type": "stream",
     "text": [
      "Max sentence length is 1206\n",
      "Mean sentence length is 301.8644269201685\n"
     ]
    }
   ],
   "source": [
    "# See max and mean length of sentences\n",
    "print('Max sentence length is', np.amax(list(map(lambda x: len(x.split(' ')), X))))\n",
    "print('Mean sentence length is', np.mean(list(map(lambda x: len(x.split(' ')), X))))"
   ]
  },
  {
   "cell_type": "markdown",
   "metadata": {},
   "source": [
    "We now want to select a nice cutting point that retains the majority of the dataset without increasing much computational time. Hence we plot the sizes of all the examples and try to understand at first what would be a nice threshold. Looking at the graph a max length of 500 words seems to be a nice solution, but lets get a more accurate visualization"
   ]
  },
  {
   "cell_type": "code",
   "execution_count": 85,
   "metadata": {},
   "outputs": [
    {
     "data": {
      "text/plain": [
       "[<matplotlib.lines.Line2D at 0x1a358a828>]"
      ]
     },
     "execution_count": 85,
     "metadata": {},
     "output_type": "execute_result"
    },
    {
     "data": {
      "image/png": "[encoded data removed]",
      "text/plain": [
       "<Figure size 432x288 with 1 Axes>"
      ]
     },
     "metadata": {
      "needs_background": "light"
     },
     "output_type": "display_data"
    }
   ],
   "source": [
    "import matplotlib.pyplot as plt\n",
    "\n",
    "# Distribution of words in the dataset, we cannot understand a lot, but it seems ~500 or 600 a nice cutting point\n",
    "# for selecting a max_word_length\n",
    "plt.plot(range(len(X)), list(map(lambda x: len(x.split(' ')), X)))"
   ]
  },
  {
   "cell_type": "markdown",
   "metadata": {},
   "source": [
    "Now we plot the sentence length against the cumulative sum of the longer sentences. We finally choose 500 as the max length of the sentence we want to allow in our dataset. We choose to discard the sentence instead of pruning it because cutting a sentence midway usually add more noise"
   ]
  },
  {
   "cell_type": "code",
   "execution_count": 86,
   "metadata": {},
   "outputs": [
    {
     "data": {
      "text/plain": [
       "[<matplotlib.lines.Line2D at 0x122c33eb8>]"
      ]
     },
     "execution_count": 86,
     "metadata": {},
     "output_type": "execute_result"
    },
    {
     "data": {
      "image/png": "[encoded data removed]",
      "text/plain": [
       "<Figure size 432x288 with 1 Axes>"
      ]
     },
     "metadata": {
      "needs_background": "light"
     },
     "output_type": "display_data"
    }
   ],
   "source": [
    "XX = list(map(lambda x: x.split(' '), X))\n",
    "def ds_size(n):\n",
    "    return np.sum(list(map(lambda x: 1 if len(x) < n else 0, XX)))\n",
    "\n",
    "# plot the dataset size to get a nice cutting point, we confirm 500 max_len for this dataset\n",
    "plt.xlim(0, 1000)\n",
    "plt.plot(range(len(X)), [ds_size(n) for n in range(len(X))])"
   ]
  },
  {
   "cell_type": "code",
   "execution_count": 87,
   "metadata": {},
   "outputs": [],
   "source": [
    "indexes = mmap(lambda x:len(x.split(' ')) < 500, X)"
   ]
  },
  {
   "cell_type": "code",
   "execution_count": 88,
   "metadata": {},
   "outputs": [],
   "source": [
    "X = np.array(X)[indexes]\n",
    "y = np.array(y)[indexes]"
   ]
  },
  {
   "cell_type": "code",
   "execution_count": 89,
   "metadata": {},
   "outputs": [
    {
     "name": "stdout",
     "output_type": "stream",
     "text": [
      "True 8911\n"
     ]
    }
   ],
   "source": [
    "print(len(X) == len(y), len(X))"
   ]
  },
  {
   "cell_type": "markdown",
   "metadata": {},
   "source": [
    "## Tokenization and Vocabulary Building\n",
    "We now tokenize our words with TreebankWordTokenizer and select the size of the vocabulary to include less words as possible paying attention not generating too many unknowns in the dataset. We plot the most frequent words and discover as excpected a Zipf distribution where the most common words are very few respect all the others. Then we select a threshold to include only the words that maximizes our tradeoff of voc_size vs recall of words found in the training set."
   ]
  },
  {
   "cell_type": "code",
   "execution_count": 90,
   "metadata": {},
   "outputs": [],
   "source": [
    "# tokenize with TreebankWord tokenizer\n",
    "from nltk.tokenize import TreebankWordTokenizer\n",
    "tokenizer = TreebankWordTokenizer()\n",
    "\n",
    "X_tokens = [tokenizer.tokenize(x) for x in X]\n",
    "y_tokens = [tokenizer.tokenize(x) for x in y]"
   ]
  },
  {
   "cell_type": "code",
   "execution_count": 91,
   "metadata": {},
   "outputs": [],
   "source": [
    "from collections import Counter"
   ]
  },
  {
   "cell_type": "code",
   "execution_count": 92,
   "metadata": {},
   "outputs": [],
   "source": [
    "def flatmap(lst):\n",
    "    return [word for sent in lst for word in sent]\n",
    "\n",
    "voc_counts = Counter(flatmap(X_tokens) + flatmap(y_tokens))"
   ]
  },
  {
   "cell_type": "markdown",
   "metadata": {},
   "source": [
    "Here we select the firs"
   ]
  },
  {
   "cell_type": "code",
   "execution_count": 93,
   "metadata": {},
   "outputs": [
    {
     "data": {
      "text/plain": [
       "[<matplotlib.lines.Line2D at 0x163a5e588>]"
      ]
     },
     "execution_count": 93,
     "metadata": {},
     "output_type": "execute_result"
    },
    {
     "data": {
      "image/png": "[encoded data removed]",
      "text/plain": [
       "<Figure size 432x288 with 1 Axes>"
      ]
     },
     "metadata": {
      "needs_background": "light"
     },
     "output_type": "display_data"
    }
   ],
   "source": [
    "# get only the most frequent words. It follows a zipf distribution as expected\n",
    "# we need to choose a proper threshold, \n",
    "py = mmap(lambda x: x[1], voc_counts.most_common())[::-1]\n",
    "px = range(0, len(py))\n",
    "plt.xlim(70000, 100000)\n",
    "plt.ylim(0, 300)\n",
    "plt.plot(px, py)"
   ]
  },
  {
   "cell_type": "code",
   "execution_count": 94,
   "metadata": {},
   "outputs": [
    {
     "name": "stdout",
     "output_type": "stream",
     "text": [
      "The final vocabulary size is 13128 against the unfiltered 88128\n"
     ]
    }
   ],
   "source": [
    "# a vocabulary of 13k words seems fine for this task, we probably can compress more\n",
    "# for saving memory and computation time but let's test this choice first\n",
    "print('The final vocabulary size is', len(py) - 75000, 'against the unfiltered', len(py))"
   ]
  },
  {
   "cell_type": "code",
   "execution_count": 95,
   "metadata": {},
   "outputs": [],
   "source": [
    "# make the cut\n",
    "voc = voc_counts.most_common()[:13128]"
   ]
  },
  {
   "cell_type": "markdown",
   "metadata": {},
   "source": [
    "We now generate the vocabulary and the inverse vocabulary, and we also need to adapt our dataset to be the input of our neural network. As the input follows a seq2seq model we need to remember to define special symbols which are the START and the END tokens."
   ]
  },
  {
   "cell_type": "code",
   "execution_count": 96,
   "metadata": {},
   "outputs": [],
   "source": [
    "# BUILD THE VOCABULARY\n",
    "\n",
    "words = getel(0, voc)\n",
    "w2id = dict(zip(words, range(len(words))))\n",
    "\n",
    "# add <start>, <end>, <unk> token to vocabulary\n",
    "w2id['<start>'] = len(w2id.keys())\n",
    "w2id['<end>'] = len(w2id.keys())\n",
    "w2id['<unk>'] = len(w2id.keys())\n",
    "w2id['<pad>'] = len(w2id.keys())\n",
    "\n",
    "# BUILD THE REVERSE VOCABULARY\n",
    "\n",
    "id2w = dict(mmap(lambda x: (x[1], x[0]), w2id.items()))"
   ]
  },
  {
   "cell_type": "code",
   "execution_count": 102,
   "metadata": {},
   "outputs": [],
   "source": [
    "# CONVERT X TOKENS TO INDEXES\n",
    "\n",
    "X_id = [[w2id.get(word, w2id['<unk>']) for word in sent] for sent in X_tokens]\n",
    "\n",
    "# ADD START AND END TOKEN AND CONVERT Y TO ID\n",
    "y_id = [[w2id['<start>']] + \\\n",
    "        [w2id.get(word, w2id['<unk>']) for word in sent] + \\\n",
    "        [w2id['<end>']] for sent in y_tokens]"
   ]
  },
  {
   "cell_type": "code",
   "execution_count": 103,
   "metadata": {},
   "outputs": [],
   "source": [
    "# SEQUENCE PADDING\n",
    "\n",
    "from keras.preprocessing.sequence import pad_sequences\n",
    "X_id=pad_sequences(X_id, value=w2id['<pad>'], padding='post')\n",
    "y_id = pad_sequences(y_id, value=w2id['<pad>'], padding='post')"
   ]
  },
  {
   "cell_type": "markdown",
   "metadata": {},
   "source": [
    "## Adapting the dataset to the network\n",
    "We need to generated 3 input for our network:\n",
    "* The X input which holds or the articles, composed by padded sequences of indexes\n",
    "* The Y input which holds indexes for the summaries, format is like the X\n",
    "* The G input, with the same shape of Y, holds the information about if the index in the same position as Y will be generated by the network, or selected from the input"
   ]
  },
  {
   "cell_type": "code",
   "execution_count": 104,
   "metadata": {
    "scrolled": true
   },
   "outputs": [
    {
     "name": "stdout",
     "output_type": "stream",
     "text": [
      "starting example n° 0\n",
      "starting example n° 1000\n",
      "starting example n° 2000\n",
      "starting example n° 3000\n",
      "starting example n° 4000\n",
      "starting example n° 5000\n",
      "starting example n° 6000\n",
      "starting example n° 7000\n",
      "starting example n° 8000\n",
      "CPU times: user 1min 26s, sys: 116 ms, total: 1min 26s\n",
      "Wall time: 1min 26s\n"
     ]
    }
   ],
   "source": [
    "%%time\n",
    "y_id_new = []\n",
    "pad_index = w2id['<pad>']\n",
    "def p_gen_index(elem, inp, i, log=False, padding=pad_index):\n",
    "    if i % 1000 == 0 and log:\n",
    "        print('starting example n°', i)\n",
    "    if elem == padding:\n",
    "        y_id_new.append(padding)\n",
    "        return padding\n",
    "    try:\n",
    "        index = inp.tolist().index(elem)\n",
    "        y_id_new.append(index)\n",
    "        return 0\n",
    "    except:\n",
    "        y_id_new.append(elem)\n",
    "        return 1\n",
    "\n",
    "gen = [[p_gen_index(elem, ex, i, log=i2 == 0)  for i2, elem in enumerate(y)] for i, (ex, y) in enumerate(zip(X_id, y_id))]"
   ]
  },
  {
   "cell_type": "code",
   "execution_count": 105,
   "metadata": {},
   "outputs": [],
   "source": [
    "y_final = np.array(y_id_new).reshape(y_id.shape)"
   ]
  },
  {
   "cell_type": "markdown",
   "metadata": {},
   "source": [
    "We can now inspect how X, Y and Gen looks like"
   ]
  },
  {
   "cell_type": "code",
   "execution_count": 106,
   "metadata": {
    "scrolled": true
   },
   "outputs": [
    {
     "data": {
      "text/plain": [
       "array([   82,    90,  5240, 13130,     8, 13130,    43,    34,   366,\n",
       "          42,  6331,  4759,    55,     4,  8777, 13130,  2807,     1,\n",
       "       13130,    34, 13130,    16, 13130,    42,  6813,    77,  1998,\n",
       "           4,     7,    68,    42,    22,   651,     1,  3182, 13130,\n",
       "          61,    21,     3,   333,     2,   417,    43,  1934,  1802,\n",
       "          25,    32,   249,   153,    19,   799,     7,    46,    31,\n",
       "          21, 13130,    42,    51,    30,    77,    14,  8351,     7,\n",
       "          46,    31,    21,   317,     1,  3182, 13130, 13130,    31,\n",
       "         633,     5,  5047,    51,    42,    22,   651,   717,  2808,\n",
       "        9229,   394,    50,   200,    34,    11,   227, 13130,  3101,\n",
       "        8136,     4,   494,  5697,   958,  3402,    82,     1,   931,\n",
       "        1998,    25,    42,    22,   213,   134,  5779,  9496,  3327,\n",
       "          57,     2,  2431,     5,     0,   102,   108,    21, 13130,\n",
       "          74,     1,     1,   744,  3711,    20,     0,   130,   263,\n",
       "           7,   182,  4330,     1,    24,  1027, 13130,  1935,   320,\n",
       "          19,     3,   366,  1413,  5111,     2,   421,    57,     3,\n",
       "         284,    31,     8, 13130,     7,  1453,    59,  6039,  1998,\n",
       "          45, 12709,     7,    66,  7418,  5388,  1802,    63,    24,\n",
       "           3,  8351,   661,     4,   320,    24,  3555,     5,     3,\n",
       "        2021,   144,  1033,   824,   934,    54,  3863,    89,  4242,\n",
       "           1,   254,     9,  1998,  1935,    31,   514,    32,    21,\n",
       "       13130,   169,   767,    37,  1820,   312,  1258,     7,     3,\n",
       "        1323,  1874,  7419,    51,  6040, 13130,     3,   313,  9019,\n",
       "        4938,     4,   636,     2,     0,   156,  1298,     2, 13130,\n",
       "       13130, 13130,  1988,  6332,  5531,  6814,     3,  5698,    63,\n",
       "        1266,    54,   313,   590,     6,    59, 13130,  1802,  3182,\n",
       "          45,   684, 13130,   178, 13130,   725, 13130, 13130, 13130,\n",
       "       13130,  7271,    45, 13130, 13131, 13131, 13131, 13131, 13131,\n",
       "       13131, 13131, 13131, 13131, 13131, 13131, 13131, 13131, 13131,\n",
       "       13131, 13131, 13131, 13131, 13131, 13131, 13131, 13131, 13131,\n",
       "       13131, 13131, 13131, 13131, 13131, 13131, 13131, 13131, 13131,\n",
       "       13131, 13131, 13131, 13131, 13131, 13131, 13131, 13131, 13131,\n",
       "       13131, 13131, 13131, 13131, 13131, 13131, 13131, 13131, 13131,\n",
       "       13131, 13131, 13131, 13131, 13131, 13131, 13131, 13131, 13131,\n",
       "       13131, 13131, 13131, 13131, 13131, 13131, 13131, 13131, 13131,\n",
       "       13131, 13131, 13131, 13131, 13131, 13131, 13131, 13131, 13131,\n",
       "       13131, 13131, 13131, 13131, 13131, 13131, 13131, 13131, 13131,\n",
       "       13131, 13131, 13131, 13131, 13131, 13131, 13131, 13131, 13131,\n",
       "       13131, 13131, 13131, 13131, 13131, 13131, 13131, 13131, 13131,\n",
       "       13131, 13131, 13131, 13131, 13131, 13131, 13131, 13131, 13131,\n",
       "       13131, 13131, 13131, 13131, 13131, 13131, 13131, 13131, 13131,\n",
       "       13131, 13131, 13131, 13131, 13131, 13131, 13131, 13131, 13131,\n",
       "       13131, 13131, 13131, 13131, 13131, 13131, 13131, 13131, 13131,\n",
       "       13131, 13131, 13131, 13131, 13131, 13131, 13131, 13131, 13131,\n",
       "       13131, 13131, 13131, 13131, 13131, 13131, 13131, 13131, 13131,\n",
       "       13131, 13131, 13131, 13131, 13131, 13131, 13131, 13131, 13131,\n",
       "       13131, 13131, 13131, 13131, 13131, 13131, 13131, 13131, 13131,\n",
       "       13131, 13131, 13131, 13131, 13131, 13131, 13131, 13131, 13131,\n",
       "       13131, 13131, 13131, 13131, 13131, 13131, 13131, 13131, 13131,\n",
       "       13131, 13131, 13131, 13131, 13131, 13131, 13131, 13131, 13131,\n",
       "       13131, 13131, 13131, 13131, 13131, 13131, 13131, 13131, 13131,\n",
       "       13131, 13131, 13131, 13131, 13131, 13131, 13131, 13131, 13131,\n",
       "       13131, 13131, 13131, 13131, 13131, 13131, 13131, 13131, 13131,\n",
       "       13131, 13131, 13131, 13131, 13131, 13131, 13131, 13131, 13131,\n",
       "       13131, 13131, 13131, 13131, 13131, 13131, 13131, 13131, 13131,\n",
       "       13131, 13131, 13131, 13131, 13131], dtype=int32)"
      ]
     },
     "execution_count": 106,
     "metadata": {},
     "output_type": "execute_result"
    }
   ],
   "source": [
    "X_id[0]"
   ]
  },
  {
   "cell_type": "code",
   "execution_count": 107,
   "metadata": {
    "scrolled": false
   },
   "outputs": [
    {
     "data": {
      "text/plain": [
       "array([13128,    52,   381,    40,   110,    73,   112,   113,   114,\n",
       "          37,     3,   157,   158,    44,   160,   130,    38,    61,\n",
       "        4636,     3,   400,    38,   298,   631,    73,   299,   156,\n",
       "          52,    37,     3,    15,   113,   130,    44,   476,    17,\n",
       "        1693,   171,  8114,   108,  2877,     6,    44, 13129, 13131,\n",
       "       13131, 13131, 13131, 13131, 13131, 13131, 13131, 13131, 13131,\n",
       "       13131, 13131, 13131, 13131, 13131, 13131, 13131, 13131, 13131,\n",
       "       13131, 13131, 13131, 13131, 13131, 13131, 13131, 13131, 13131,\n",
       "       13131, 13131, 13131])"
      ]
     },
     "execution_count": 107,
     "metadata": {},
     "output_type": "execute_result"
    }
   ],
   "source": [
    "y_final[0]"
   ]
  },
  {
   "cell_type": "code",
   "execution_count": 108,
   "metadata": {
    "scrolled": true
   },
   "outputs": [
    {
     "data": {
      "text/plain": [
       "[1,\n",
       " 1,\n",
       " 1,\n",
       " 0,\n",
       " 0,\n",
       " 0,\n",
       " 0,\n",
       " 0,\n",
       " 0,\n",
       " 0,\n",
       " 0,\n",
       " 0,\n",
       " 0,\n",
       " 0,\n",
       " 0,\n",
       " 0,\n",
       " 0,\n",
       " 0,\n",
       " 1,\n",
       " 0,\n",
       " 1,\n",
       " 0,\n",
       " 1,\n",
       " 1,\n",
       " 0,\n",
       " 1,\n",
       " 0,\n",
       " 0,\n",
       " 0,\n",
       " 0,\n",
       " 1,\n",
       " 1,\n",
       " 0,\n",
       " 1,\n",
       " 1,\n",
       " 0,\n",
       " 1,\n",
       " 0,\n",
       " 1,\n",
       " 0,\n",
       " 1,\n",
       " 0,\n",
       " 0,\n",
       " 1,\n",
       " 13131,\n",
       " 13131,\n",
       " 13131,\n",
       " 13131,\n",
       " 13131,\n",
       " 13131,\n",
       " 13131,\n",
       " 13131,\n",
       " 13131,\n",
       " 13131,\n",
       " 13131,\n",
       " 13131,\n",
       " 13131,\n",
       " 13131,\n",
       " 13131,\n",
       " 13131,\n",
       " 13131,\n",
       " 13131,\n",
       " 13131,\n",
       " 13131,\n",
       " 13131,\n",
       " 13131,\n",
       " 13131,\n",
       " 13131,\n",
       " 13131,\n",
       " 13131,\n",
       " 13131,\n",
       " 13131,\n",
       " 13131,\n",
       " 13131,\n",
       " 13131]"
      ]
     },
     "execution_count": 108,
     "metadata": {},
     "output_type": "execute_result"
    }
   ],
   "source": [
    "gen[0]"
   ]
  },
  {
   "cell_type": "code",
   "execution_count": 109,
   "metadata": {},
   "outputs": [],
   "source": [
    "def translate2text(indexes):\n",
    "    return ' '.join([id2w[id_] for id_ in indexes])"
   ]
  },
  {
   "cell_type": "code",
   "execution_count": 110,
   "metadata": {},
   "outputs": [
    {
     "data": {
      "text/plain": [
       "'<start> ron paul too much government <unk> in economy caused crisis. paul says the <unk> are another case of excessive intervention in economy. the government isnt letting the market adjust prices to lower levels paul says. paul bailout will only increase financial instability in the long run <end> <pad> <pad> <pad> <pad> <pad> <pad> <pad> <pad> <pad> <pad> <pad> <pad> <pad> <pad> <pad> <pad> <pad> <pad> <pad> <pad> <pad> <pad> <pad> <pad> <pad> <pad> <pad>'"
      ]
     },
     "execution_count": 110,
     "metadata": {},
     "output_type": "execute_result"
    }
   ],
   "source": [
    "translate2text(y_id[1])"
   ]
  },
  {
   "cell_type": "code",
   "execution_count": 111,
   "metadata": {},
   "outputs": [
    {
     "data": {
      "text/plain": [
       "'ron paul too much government meddling in economy caused crisis. paul says the bailouts are another case of excessive intervention in economy. the government isnt letting the market adjust prices to lower levels paul says. paul bailout will only increase financial instability in the long run'"
      ]
     },
     "execution_count": 111,
     "metadata": {},
     "output_type": "execute_result"
    }
   ],
   "source": [
    "y[1]"
   ]
  }
 ],
 "metadata": {
  "kernelspec": {
   "display_name": "Tensorflow",
   "language": "python",
   "name": "tensorflow"
  },
  "language_info": {
   "codemirror_mode": {
    "name": "ipython",
    "version": 3
   },
   "file_extension": ".py",
   "mimetype": "text/x-python",
   "name": "python",
   "nbconvert_exporter": "python",
   "pygments_lexer": "ipython3",
   "version": "3.6.5"
  }
 },
 "nbformat": 4,
 "nbformat_minor": 2
}
